{
  "cells": [
    {
      "cell_type": "markdown",
      "metadata": {
        "id": "view-in-github",
        "colab_type": "text"
      },
      "source": [
        "<a href=\"https://colab.research.google.com/github/TheS1n233/Distributed-Learning-Project5/blob/experiments/centralized_baseline.ipynb\" target=\"_parent\"><img src=\"https://colab.research.google.com/assets/colab-badge.svg\" alt=\"Open In Colab\"/></a>"
      ]
    },
    {
      "cell_type": "code",
      "execution_count": 19,
      "metadata": {
        "id": "dvmju5T5JiiO",
        "colab": {
          "base_uri": "https://localhost:8080/"
        },
        "outputId": "ad87f540-3d06-4ca9-cba5-69d50c846220"
      },
      "outputs": [
        {
          "output_type": "stream",
          "name": "stdout",
          "text": [
            "Requirement already satisfied: torch in /usr/local/lib/python3.11/dist-packages (2.5.1+cu121)\n",
            "Requirement already satisfied: filelock in /usr/local/lib/python3.11/dist-packages (from torch) (3.17.0)\n",
            "Requirement already satisfied: typing-extensions>=4.8.0 in /usr/local/lib/python3.11/dist-packages (from torch) (4.12.2)\n",
            "Requirement already satisfied: networkx in /usr/local/lib/python3.11/dist-packages (from torch) (3.4.2)\n",
            "Requirement already satisfied: jinja2 in /usr/local/lib/python3.11/dist-packages (from torch) (3.1.5)\n",
            "Requirement already satisfied: fsspec in /usr/local/lib/python3.11/dist-packages (from torch) (2024.10.0)\n",
            "Requirement already satisfied: nvidia-cuda-nvrtc-cu12==12.1.105 in /usr/local/lib/python3.11/dist-packages (from torch) (12.1.105)\n",
            "Requirement already satisfied: nvidia-cuda-runtime-cu12==12.1.105 in /usr/local/lib/python3.11/dist-packages (from torch) (12.1.105)\n",
            "Requirement already satisfied: nvidia-cuda-cupti-cu12==12.1.105 in /usr/local/lib/python3.11/dist-packages (from torch) (12.1.105)\n",
            "Requirement already satisfied: nvidia-cudnn-cu12==9.1.0.70 in /usr/local/lib/python3.11/dist-packages (from torch) (9.1.0.70)\n",
            "Requirement already satisfied: nvidia-cublas-cu12==12.1.3.1 in /usr/local/lib/python3.11/dist-packages (from torch) (12.1.3.1)\n",
            "Requirement already satisfied: nvidia-cufft-cu12==11.0.2.54 in /usr/local/lib/python3.11/dist-packages (from torch) (11.0.2.54)\n",
            "Requirement already satisfied: nvidia-curand-cu12==10.3.2.106 in /usr/local/lib/python3.11/dist-packages (from torch) (10.3.2.106)\n",
            "Requirement already satisfied: nvidia-cusolver-cu12==11.4.5.107 in /usr/local/lib/python3.11/dist-packages (from torch) (11.4.5.107)\n",
            "Requirement already satisfied: nvidia-cusparse-cu12==12.1.0.106 in /usr/local/lib/python3.11/dist-packages (from torch) (12.1.0.106)\n",
            "Requirement already satisfied: nvidia-nccl-cu12==2.21.5 in /usr/local/lib/python3.11/dist-packages (from torch) (2.21.5)\n",
            "Requirement already satisfied: nvidia-nvtx-cu12==12.1.105 in /usr/local/lib/python3.11/dist-packages (from torch) (12.1.105)\n",
            "Requirement already satisfied: triton==3.1.0 in /usr/local/lib/python3.11/dist-packages (from torch) (3.1.0)\n",
            "Requirement already satisfied: sympy==1.13.1 in /usr/local/lib/python3.11/dist-packages (from torch) (1.13.1)\n",
            "Requirement already satisfied: nvidia-nvjitlink-cu12 in /usr/local/lib/python3.11/dist-packages (from nvidia-cusolver-cu12==11.4.5.107->torch) (12.6.85)\n",
            "Requirement already satisfied: mpmath<1.4,>=1.1.0 in /usr/local/lib/python3.11/dist-packages (from sympy==1.13.1->torch) (1.3.0)\n",
            "Requirement already satisfied: MarkupSafe>=2.0 in /usr/local/lib/python3.11/dist-packages (from jinja2->torch) (3.0.2)\n"
          ]
        }
      ],
      "source": [
        "!pip install --upgrade torch"
      ]
    },
    {
      "cell_type": "markdown",
      "metadata": {
        "id": "bI3dqA44JiiP"
      },
      "source": [
        "## Imports"
      ]
    },
    {
      "cell_type": "code",
      "execution_count": 20,
      "metadata": {
        "id": "mD0gTWyoJiiQ",
        "colab": {
          "base_uri": "https://localhost:8080/"
        },
        "outputId": "838ad7e8-1481-4338-a0b4-25beab97bb8b"
      },
      "outputs": [
        {
          "output_type": "stream",
          "name": "stdout",
          "text": [
            "Drive already mounted at /content/drive; to attempt to forcibly remount, call drive.mount(\"/content/drive\", force_remount=True).\n"
          ]
        }
      ],
      "source": [
        "import torch\n",
        "import argparse\n",
        "from torch.optim.optimizer import Optimizer, required\n",
        "import torch\n",
        "import torchvision\n",
        "import torchvision.transforms as transforms\n",
        "import random\n",
        "import numpy as np\n",
        "import json\n",
        "from PIL import Image\n",
        "import torch.nn as nn\n",
        "import torch.nn.functional as F\n",
        "import torch.optim as optim\n",
        "from torch.optim.lr_scheduler import CosineAnnealingLR, SequentialLR, LinearLR\n",
        "import matplotlib.pyplot as plt\n",
        "import copy\n",
        "import time\n",
        "from torch.amp import GradScaler, autocast\n",
        "import os\n",
        "from google.colab import drive\n",
        "from torch.utils.data import DataLoader, random_split\n",
        "import warnings\n",
        "warnings.filterwarnings(\"ignore\", category=UserWarning, module=\"torch.optim.lr_scheduler\")\n",
        "drive.mount('/content/drive')\n",
        "if not os.path.exists('/content/drive/MyDrive'):\n",
        "    raise RuntimeError(\"Google Drive not mounted correctly!\")"
      ]
    },
    {
      "cell_type": "markdown",
      "metadata": {
        "id": "lnPO_7g0JiiR"
      },
      "source": [
        "## Costants"
      ]
    },
    {
      "cell_type": "code",
      "execution_count": 21,
      "metadata": {
        "id": "lsCbRpR6JiiR"
      },
      "outputs": [],
      "source": [
        "NUM_EPOCHS = 10\n",
        "BATCH_SIZE = 64\n",
        "LR = 0.01         # Choose 'SGDM': \"lr\": 0.01, \"weight_decay\": 0.001, \"momentum\": 0.9,\n",
        "WD = 0.001         # Choose 'AdamW': \"lr\": 0.001, \"weight_decay\": 0.1,\n",
        "MOMENTUM = 0.9\n",
        "EPS = 0.0001\n",
        "OPTIMIZER = 'SGDM'  # Choose from: 'SGDM', 'AdamW'\n",
        "try:\n",
        "    with open('/content/drive/MyDrive/best_hyperparams_SGDM.json', 'r') as f:    #best_hyperparams_AdamW.json or best_hyperparams_SGDM.json\n",
        "        best_hyperparams = json.load(f)\n",
        "except FileNotFoundError:\n",
        "    best_hyperparams = {\n",
        "        'lr': LR,\n",
        "        'weight_decay': WD,\n",
        "        'momentum': MOMENTUM,\n",
        "        'eps': EPS,\n",
        "        'patience': 150\n",
        "    }"
      ]
    },
    {
      "cell_type": "markdown",
      "metadata": {
        "id": "Otaf-0hUJiiS"
      },
      "source": [
        "## Model"
      ]
    },
    {
      "cell_type": "code",
      "execution_count": 22,
      "metadata": {
        "id": "6-ggfWQdJiiS"
      },
      "outputs": [],
      "source": [
        "class LeNet5(nn.Module):\n",
        "    def __init__(self):\n",
        "        super(LeNet5, self).__init__()\n",
        "\n",
        "        self.conv1 = nn.Conv2d(3, 64, kernel_size=5)\n",
        "        self.conv2 = nn.Conv2d(64, 64, kernel_size=5)\n",
        "\n",
        "        self.fc1 = nn.Linear(64 * 5 * 5, 384)\n",
        "        self.fc2 = nn.Linear(384, 192)\n",
        "        self.fc3 = nn.Linear(192, 100)\n",
        "\n",
        "    def forward(self, x):\n",
        "        x = F.relu(self.conv1(x))\n",
        "        x = F.max_pool2d(x, 2)\n",
        "        x = F.relu(self.conv2(x))\n",
        "        x = F.max_pool2d(x, 2)\n",
        "\n",
        "        x = torch.flatten(x, 1)\n",
        "\n",
        "        x = F.relu(self.fc1(x))\n",
        "        x = F.relu(self.fc2(x))\n",
        "\n",
        "        x = self.fc3(x)\n",
        "        x = F.log_softmax(x, dim=1)\n",
        "\n",
        "        return x"
      ]
    },
    {
      "cell_type": "markdown",
      "metadata": {
        "id": "U-s5YWl4JiiR"
      },
      "source": [
        "## Function to get train, test and val dataset"
      ]
    },
    {
      "cell_type": "code",
      "execution_count": 23,
      "metadata": {
        "id": "2R2xi_lxJiiS"
      },
      "outputs": [],
      "source": [
        "def calulcate_mean_std(batch_size=100, verbose=True):\n",
        "    # Transform only for caluclate meaning of the dataset\n",
        "    transform = transforms.Compose([\n",
        "        transforms.ToTensor(),\n",
        "    ])\n",
        "\n",
        "    # Load the CIFAR-100 training dataset\n",
        "    train_dataset = torchvision.datasets.CIFAR100(\n",
        "        root='./data',\n",
        "        train=True,\n",
        "        download=True,\n",
        "        transform=transform\n",
        "    )\n",
        "\n",
        "\n",
        "    train_loader = torch.utils.data.DataLoader(train_dataset, batch_size, shuffle=False, num_workers=2)\n",
        "\n",
        "    # Initialize sums for calculating mean and std\n",
        "    mean = torch.zeros(3)\n",
        "    std = torch.zeros(3)\n",
        "\n",
        "    for images, _ in train_loader:\n",
        "        # Compute mean and std for each channel\n",
        "        mean += images.mean(dim=[0, 2, 3])\n",
        "        std += images.std(dim=[0, 2, 3])\n",
        "\n",
        "    mean /= len(train_loader)\n",
        "    std /= len(train_loader)\n",
        "\n",
        "    if verbose:\n",
        "      print(\"Mean: \", mean)\n",
        "      print(\"Std: \", std)\n",
        "\n",
        "    return mean, std"
      ]
    },
    {
      "cell_type": "code",
      "source": [
        "def get_dataset(batch_size, verbose=True):\n",
        "\n",
        "    print(\"Start loading data with batch_size\", batch_size)\n",
        "\n",
        "    mean, std = calulcate_mean_std()\n",
        "\n",
        "    transform_train = transforms.Compose([\n",
        "        transforms.RandomCrop(32, padding=4),\n",
        "        transforms.RandomHorizontalFlip(),\n",
        "        transforms.ToTensor(),\n",
        "        transforms.Normalize(mean=[mean[0].item(), mean[1].item(), mean[2].item()],\n",
        "                            std=[std[0].item(), std[1].item(), std[2].item()])\n",
        "    ])\n",
        "\n",
        "    transform_test = transforms.Compose([\n",
        "        transforms.RandomCrop(32, padding=4),\n",
        "        transforms.ToTensor(),\n",
        "        transforms.Normalize(mean=[mean[0].item(), mean[1].item(), mean[2].item()],\n",
        "                            std=[std[0].item(), std[1].item(), std[2].item()])\n",
        "    ])\n",
        "\n",
        "    # Load CIFAR-100 dataset\n",
        "    start_time = time.time()\n",
        "    train_dataset = torchvision.datasets.CIFAR100(\n",
        "        root='./data',\n",
        "        train=True,\n",
        "        download=True,\n",
        "        transform=transform_train\n",
        "    )\n",
        "    test_dataset = torchvision.datasets.CIFAR100(\n",
        "        root='./data',\n",
        "        train=False,\n",
        "        download=True,\n",
        "        transform=transform_test\n",
        "    )\n",
        "    print(f\"Dataset loading time: {time.time() - start_time:.2f} seconds\")\n",
        "\n",
        "    # Split training and validation sets\n",
        "    train_size = int(0.8 * len(train_dataset))\n",
        "    val_size = len(train_dataset) - train_size\n",
        "    train_dataset, val_dataset = torch.utils.data.random_split(train_dataset, [train_size, val_size])\n",
        "\n",
        "    # Data loaders\n",
        "    train_loader = torch.utils.data.DataLoader(\n",
        "        train_dataset,\n",
        "        batch_size=batch_size,\n",
        "        shuffle=True,\n",
        "        num_workers=2,\n",
        "        pin_memory=True\n",
        "    )\n",
        "\n",
        "    val_loader = torch.utils.data.DataLoader(\n",
        "        val_dataset,\n",
        "        batch_size=batch_size,\n",
        "        shuffle=False,\n",
        "        num_workers=2,\n",
        "        pin_memory=True\n",
        "    )\n",
        "\n",
        "    test_loader = torch.utils.data.DataLoader(\n",
        "        test_dataset,\n",
        "        batch_size=batch_size,\n",
        "        shuffle=False,\n",
        "        num_workers=2,\n",
        "        pin_memory=True\n",
        "    )\n",
        "\n",
        "    # Debugging: Check DataLoader outputs\n",
        "    for i, (inputs, labels) in enumerate(train_loader):\n",
        "        print(f\"Batch {i}: inputs shape: {inputs.shape}, labels shape: {labels.shape}\")\n",
        "        if i == 10:  # Test first 10 batches\n",
        "            break\n",
        "    print(f\"Data loading for 10 batches completed.\")\n",
        "\n",
        "    return train_dataset, train_loader, val_loader, test_loader"
      ],
      "metadata": {
        "id": "GryJg1jZgvIM"
      },
      "execution_count": 24,
      "outputs": []
    },
    {
      "cell_type": "code",
      "source": [
        "class CheckpointSaver:\n",
        "\n",
        "  def __init__(self, path, OPTIMIZER, best_hyperparams, epochs):\n",
        "    self.timestamp = time.strftime(\"%Y%m%d-%H%M%S\")\n",
        "    self.path = f\"{path}/Centralized_{OPTIMIZER}_{self.timestamp}\"\n",
        "    self.best_hyperparams = best_hyperparams\n",
        "    self.epochs = epochs\n",
        "\n",
        "  def create_files(self):\n",
        "    os.makedirs(self.path, exist_ok=True)\n",
        "\n",
        "    self.metrics_files = {\n",
        "        'train_acc': os.path.join(self.path, f'{OPTIMIZER}_train_accuracy_{self.timestamp}.txt'),\n",
        "        'val_acc': os.path.join(self.path, f'{OPTIMIZER}_val_accuracy_{self.timestamp}.txt'),\n",
        "        'train_loss': os.path.join(self.path, f'{OPTIMIZER}_train_loss_{self.timestamp}.txt'),\n",
        "        'val_loss': os.path.join(self.path, f'{OPTIMIZER}_val_loss_{self.timestamp}.txt')\n",
        "    }\n",
        "\n",
        "    with open(os.path.join(self.path, f'{OPTIMIZER}_experiment_config_{self.timestamp}.txt'), 'w') as f:\n",
        "        f.write(f\"Experiment Configuration:\\n\")\n",
        "        f.write(f\"Optimizer: {OPTIMIZER}\\n\")\n",
        "        f.write(f\"Hyperparameters: {str(self.best_hyperparams)}\\n\")\n",
        "        f.write(f\"Number of epochs: {self.epochs}\\n\")\n",
        "        f.write(f\"Timestamp: {self.timestamp}\\n\")\n",
        "\n",
        "\n",
        "  def save_checkpoint(self, epoch, train_acc, val_acc, train_loss, val_loss):\n",
        "      try:\n",
        "          with open(self.metrics_files['train_acc'], 'a') as f:\n",
        "              f.write(f\"{epoch+1},{train_acc * 100:.2f}%\\n\")\n",
        "          with open(self.metrics_files['val_acc'], 'a') as f:\n",
        "              f.write(f\"{epoch+1},{val_acc * 100:.2f}%\\n\")\n",
        "          with open(self.metrics_files['train_loss'], 'a') as f:\n",
        "              f.write(f\"{epoch+1},{train_loss:.4f}\\n\")\n",
        "          with open(self.metrics_files['val_loss'], 'a') as f:\n",
        "              f.write(f\"{epoch+1},{val_loss:.4f}\\n\")\n",
        "      except Exception as e:\n",
        "          print(f\"Error saving metrics: {e}\")\n",
        "\n",
        "  def save_model_checkpoint(self, model, optimizer, epoch):\n",
        "    checkpoint_path = os.path.join(self.path, f'checkpoint_epoch_last.pth')\n",
        "    try:\n",
        "        torch.save({\n",
        "            'epoch': epoch,\n",
        "            'model_state_dict': model.state_dict(),\n",
        "            'optimizer_state_dict': optimizer.state_dict(),\n",
        "        }, checkpoint_path)\n",
        "    except Exception as e:\n",
        "        print(f\"Error saving model checkpoint: {e}\")\n",
        "\n",
        "  def load_model_checkpoint(self, model, optimizer, checkpoint_path):\n",
        "    try:\n",
        "        checkpoint = torch.load(checkpoint_path)\n",
        "        model.load_state_dict(checkpoint['model_state_dict'])\n",
        "        optimizer.load_state_dict(checkpoint['optimizer_state_dict'])\n",
        "        start_epoch = checkpoint['epoch'] + 1\n",
        "        print(f\"Checkpoint loaded successfully. Resuming from epoch {start_epoch}\")\n",
        "        return start_epoch\n",
        "    except Exception as e:\n",
        "        print(f\"Error loading model checkpoint: {e}\")\n",
        "        return 0\n"
      ],
      "metadata": {
        "id": "I2664ZFSzYTy"
      },
      "execution_count": 25,
      "outputs": []
    },
    {
      "cell_type": "markdown",
      "metadata": {
        "id": "mZXMzbb9JiiT"
      },
      "source": [
        "## Centralized baseline training function"
      ]
    },
    {
      "cell_type": "code",
      "execution_count": 26,
      "metadata": {
        "id": "uC1vt63oJiiT"
      },
      "outputs": [],
      "source": [
        "def train_model_with_hyperparams(train_loader, val_loader, test_loader, best_hyperparams, num_epochs, device, type_of_optimizer):\n",
        "    model = LeNet5().to(device)\n",
        "\n",
        "    if type_of_optimizer == \"SGDM\":\n",
        "        if best_hyperparams.get('momentum', None) is None:\n",
        "            raise ValueError(\"Momentum is required for SGDM\")\n",
        "        if best_hyperparams.get('weight_decay', None) is None:\n",
        "            raise ValueError(\"Weight decay is required for SGDM\")\n",
        "        if best_hyperparams.get('lr', None) is None:\n",
        "            raise ValueError(\"Learning rate is required for SGDM\")\n",
        "\n",
        "        optimizer = optim.SGD(\n",
        "            model.parameters(),\n",
        "            lr=best_hyperparams['lr'],\n",
        "            weight_decay=best_hyperparams['weight_decay'],\n",
        "            momentum=best_hyperparams['momentum'],\n",
        "        )\n",
        "\n",
        "    elif type_of_optimizer == \"AdamW\":\n",
        "        if best_hyperparams.get('lr', None) is None:\n",
        "            raise ValueError(\"Learning rate is required for AdamW\")\n",
        "        if best_hyperparams.get('weight_decay', None) is None:\n",
        "            raise ValueError(\"Weight decay is required for AdamW\")\n",
        "\n",
        "        optimizer = optim.AdamW(\n",
        "            model.parameters(),\n",
        "            lr=best_hyperparams['lr'],\n",
        "            weight_decay=best_hyperparams['weight_decay'],\n",
        "            eps=best_hyperparams.get('eps', 1e-8)\n",
        "        )\n",
        "    else:\n",
        "        raise ValueError(\"Invalid optimizer type\")\n",
        "\n",
        "    print(f\"Train running with {type_of_optimizer} optimizer.\")\n",
        "\n",
        "    scheduler = CosineAnnealingLR(optimizer, T_max=num_epochs)\n",
        "    criterion = nn.CrossEntropyLoss(label_smoothing=0.1)\n",
        "\n",
        "    cs = CheckpointSaver(\n",
        "        path=f\"/content/drive/My Drive/Colab Notebooks/Traning_summary/\",\n",
        "        OPTIMIZER=OPTIMIZER,\n",
        "        best_hyperparams=best_hyperparams,\n",
        "        epochs=num_epochs\n",
        "    )\n",
        "\n",
        "\n",
        "    # Check for existing checkpoint\n",
        "    checkpoint_path = \"/content/drive/My Drive/Colab Notebooks/Traning_summary/Centralized_SGDM_20250124-200511/checkpoint_epoch_last.pth\"\n",
        "    start_epoch = 0\n",
        "    if os.path.exists(checkpoint_path):\n",
        "        cs = CheckpointSaver(\n",
        "            path=\"/content/drive/My Drive/Colab Notebooks/Traning_summary/\",\n",
        "            OPTIMIZER=OPTIMIZER,\n",
        "            best_hyperparams=best_hyperparams,\n",
        "            epochs=num_epochs\n",
        "        )\n",
        "        start_epoch = cs.load_model_checkpoint(model, optimizer, checkpoint_path)\n",
        "        print(f\"Recover，from {start_epoch} epoch to train\")\n",
        "    else:\n",
        "        print(\"start training from beginning\")\n",
        "\n",
        "    cs.create_files()\n",
        "\n",
        "\n",
        "    train_losses, val_losses, train_accuracies, val_accuracies = [], [], [], []\n",
        "\n",
        "    for epoch in range(start_epoch, num_epochs):\n",
        "        model.train()\n",
        "        train_loss_total, train_correct, train_total = 0, 0, 0\n",
        "        last_lr = optimizer.param_groups[0]['lr']\n",
        "        print(f\"Epoch {epoch}: before Learning Rate111 = {last_lr:.6f}\")\n",
        "        # Training loop\n",
        "        for inputs, labels in train_loader:\n",
        "            inputs, labels = inputs.to(device, non_blocking=True), labels.to(device, non_blocking=True)\n",
        "            optimizer.zero_grad()\n",
        "\n",
        "            outputs = model(inputs)\n",
        "            loss = criterion(outputs, labels)\n",
        "            loss.backward()\n",
        "            optimizer.step()\n",
        "\n",
        "            train_loss_total += loss.item()\n",
        "            _, predicted = outputs.max(1)\n",
        "            train_total += labels.size(0)\n",
        "            train_correct += predicted.eq(labels).sum().item()\n",
        "\n",
        "        train_loss = train_loss_total / len(train_loader)\n",
        "        train_acc = 100. * train_correct / train_total\n",
        "        train_losses.append(train_loss)\n",
        "        train_accuracies.append(train_acc)\n",
        "\n",
        "        # Validation loop\n",
        "        model.eval()\n",
        "        val_loss_total, val_correct, val_total = 0, 0, 0\n",
        "        with torch.no_grad():\n",
        "            for inputs, labels in val_loader:\n",
        "                inputs, labels = inputs.to(device, non_blocking=True), labels.to(device, non_blocking=True)\n",
        "\n",
        "                outputs = model(inputs)\n",
        "                loss = criterion(outputs, labels)\n",
        "\n",
        "                val_loss_total += loss.item()\n",
        "                _, predicted = outputs.max(1)\n",
        "                val_total += labels.size(0)\n",
        "                val_correct += predicted.eq(labels).sum().item()\n",
        "\n",
        "        val_loss = val_loss_total / len(val_loader)\n",
        "        val_acc = 100. * val_correct / val_total\n",
        "        val_losses.append(val_loss)\n",
        "        val_accuracies.append(val_acc)\n",
        "\n",
        "        last_lr = optimizer.param_groups[0]['lr']\n",
        "        print(f\"Epoch {epoch}: after Learning Rate222 = {last_lr:.6f}\")\n",
        "        cs.save_checkpoint(epoch, train_acc, val_acc, train_loss, val_loss)\n",
        "        cs.save_model_checkpoint(model, optimizer, epoch)\n",
        "\n",
        "        print(f\"Epoch {epoch + 1}/{num_epochs} | Train Loss: {train_loss:.4f}, Train Acc: {train_acc:.2f}% | \"\n",
        "              f\"Val Loss: {val_loss:.4f}, Val Acc: {val_acc:.2f}%\")\n",
        "\n",
        "        scheduler.step()\n",
        "\n",
        "\n",
        "\n",
        "    # Test loop\n",
        "    model.eval()\n",
        "    test_correct, test_total = 0, 0\n",
        "    with torch.no_grad():\n",
        "        for inputs, labels in test_loader:\n",
        "            inputs, labels = inputs.to(device, non_blocking=True), labels.to(device, non_blocking=True)\n",
        "\n",
        "            outputs = model(inputs)\n",
        "            _, predicted = outputs.max(1)\n",
        "            test_total += labels.size(0)\n",
        "            test_correct += predicted.eq(labels).sum().item()\n",
        "\n",
        "    test_acc = 100. * test_correct / test_total\n",
        "    print(f\"Final Test Accuracy: {test_acc:.2f}%\")\n",
        "    return train_losses, val_losses, train_accuracies, val_accuracies, test_acc, cs.path\n",
        "\n",
        "\n",
        "def plot_results(train_losses, val_losses, train_accuracies, val_accuracies, save_path):\n",
        "    epochs = range(1, len(train_losses) + 1)\n",
        "    plt.figure(figsize=(12, 5))\n",
        "    # Plot losses\n",
        "    plt.subplot(1, 2, 1)\n",
        "    plt.plot(epochs, train_losses, label='Train Loss')\n",
        "    plt.plot(epochs, val_losses, label='Validation Loss')\n",
        "    plt.xlabel('Epochs')\n",
        "    plt.ylabel('Loss')\n",
        "    plt.title('Training and Validation Loss')\n",
        "    plt.legend()\n",
        "\n",
        "    # Plot accuracies\n",
        "    plt.subplot(1, 2, 2)\n",
        "    plt.plot(epochs, train_accuracies, label='Train Accuracy')\n",
        "    plt.plot(epochs, val_accuracies, label='Validation Accuracy')\n",
        "    plt.xlabel('Epochs')\n",
        "    plt.ylabel('Accuracy (%)')\n",
        "    plt.title('Training and Validation Accuracy')\n",
        "    plt.legend()\n",
        "\n",
        "    plt.tight_layout()\n",
        "    plt.savefig(f\"{save_path}/training_results.png\")\n",
        "    print(f\"Training results saved to {save_path}\")\n",
        "    plt.show()"
      ]
    },
    {
      "cell_type": "markdown",
      "metadata": {
        "id": "Pmiych7HJiiU"
      },
      "source": [
        "## Main"
      ]
    },
    {
      "cell_type": "code",
      "execution_count": 27,
      "metadata": {
        "id": "bdyWGKLAJiiU",
        "colab": {
          "base_uri": "https://localhost:8080/",
          "height": 1000
        },
        "outputId": "d49f3ecd-014c-4d36-bf8d-8da4168b266d"
      },
      "outputs": [
        {
          "output_type": "stream",
          "name": "stdout",
          "text": [
            "Start loading data with batch_size 64\n",
            "Files already downloaded and verified\n",
            "Mean:  tensor([0.5071, 0.4865, 0.4409])\n",
            "Std:  tensor([0.2667, 0.2558, 0.2754])\n",
            "Files already downloaded and verified\n",
            "Files already downloaded and verified\n",
            "Dataset loading time: 1.74 seconds\n",
            "Batch 0: inputs shape: torch.Size([64, 3, 32, 32]), labels shape: torch.Size([64])\n",
            "Batch 1: inputs shape: torch.Size([64, 3, 32, 32]), labels shape: torch.Size([64])\n",
            "Batch 2: inputs shape: torch.Size([64, 3, 32, 32]), labels shape: torch.Size([64])\n",
            "Batch 3: inputs shape: torch.Size([64, 3, 32, 32]), labels shape: torch.Size([64])\n",
            "Batch 4: inputs shape: torch.Size([64, 3, 32, 32]), labels shape: torch.Size([64])\n",
            "Batch 5: inputs shape: torch.Size([64, 3, 32, 32]), labels shape: torch.Size([64])\n",
            "Batch 6: inputs shape: torch.Size([64, 3, 32, 32]), labels shape: torch.Size([64])\n",
            "Batch 7: inputs shape: torch.Size([64, 3, 32, 32]), labels shape: torch.Size([64])\n",
            "Batch 8: inputs shape: torch.Size([64, 3, 32, 32]), labels shape: torch.Size([64])\n",
            "Batch 9: inputs shape: torch.Size([64, 3, 32, 32]), labels shape: torch.Size([64])\n",
            "Batch 10: inputs shape: torch.Size([64, 3, 32, 32]), labels shape: torch.Size([64])\n",
            "Data loading for 10 batches completed.\n",
            "\n",
            "Using Best Hyperparameters from Grid Search: {'lr': 0.01, 'weight_decay': 0.001, 'momentum': 0.9, 'eps': 0.0001, 'patience': 150}\n",
            "Train running with SGDM optimizer.\n",
            "Checkpoint loaded successfully. Resuming from epoch 6\n",
            "Recover，from 6 epoch to train\n",
            "Epoch 6: before Learning Rate111 = 0.007981\n"
          ]
        },
        {
          "output_type": "stream",
          "name": "stderr",
          "text": [
            "<ipython-input-25-2226d6388bca>:53: FutureWarning: You are using `torch.load` with `weights_only=False` (the current default value), which uses the default pickle module implicitly. It is possible to construct malicious pickle data which will execute arbitrary code during unpickling (See https://github.com/pytorch/pytorch/blob/main/SECURITY.md#untrusted-models for more details). In a future release, the default value for `weights_only` will be flipped to `True`. This limits the functions that could be executed during unpickling. Arbitrary objects will no longer be allowed to be loaded via this mode unless they are explicitly allowlisted by the user via `torch.serialization.add_safe_globals`. We recommend you start setting `weights_only=True` for any use case where you don't have full control of the loaded file. Please open an issue on GitHub for any issues related to this experimental feature.\n",
            "  checkpoint = torch.load(checkpoint_path)\n"
          ]
        },
        {
          "output_type": "stream",
          "name": "stdout",
          "text": [
            "Epoch 6: after Learning Rate222 = 0.007981\n",
            "Epoch 7/10 | Train Loss: 3.0826, Train Acc: 31.34% | Val Loss: 3.0738, Val Acc: 31.45%\n",
            "Epoch 7: before Learning Rate111 = 0.007786\n",
            "Epoch 7: after Learning Rate222 = 0.007786\n",
            "Epoch 8/10 | Train Loss: 3.0043, Train Acc: 33.20% | Val Loss: 2.9929, Val Acc: 33.87%\n",
            "Epoch 8: before Learning Rate111 = 0.007219\n",
            "Epoch 8: after Learning Rate222 = 0.007219\n",
            "Epoch 9/10 | Train Loss: 2.9204, Train Acc: 35.44% | Val Loss: 2.9392, Val Acc: 35.36%\n",
            "Epoch 9: before Learning Rate111 = 0.006336\n",
            "Epoch 9: after Learning Rate222 = 0.006336\n",
            "Epoch 10/10 | Train Loss: 2.8362, Train Acc: 37.61% | Val Loss: 2.8714, Val Acc: 37.05%\n",
            "Final Test Accuracy: 36.63%\n",
            "Training results saved to /content/drive/My Drive/Colab Notebooks/Traning_summary//Centralized_SGDM_20250124-201056\n"
          ]
        },
        {
          "output_type": "display_data",
          "data": {
            "text/plain": [
              "<Figure size 1200x500 with 2 Axes>"
            ],
            "image/png": "[encoded data removed]"
          },
          "metadata": {}
        }
      ],
      "source": [
        "if __name__ == \"__main__\":\n",
        "\n",
        "    device = torch.device('cuda' if torch.cuda.is_available() else 'cpu')\n",
        "\n",
        "    train_dataset, train_loader, val_loader, test_loader = get_dataset(BATCH_SIZE)\n",
        "\n",
        "    print(\"\\nUsing Best Hyperparameters from Grid Search:\", best_hyperparams)\n",
        "\n",
        "    # Train with the best hyperparameters\n",
        "    train_losses, val_losses, train_accuracies, val_accuracies, test_acc, save_path = train_model_with_hyperparams(\n",
        "        train_loader=train_loader,\n",
        "        val_loader=val_loader,\n",
        "        test_loader=test_loader,\n",
        "        best_hyperparams=best_hyperparams,\n",
        "        num_epochs=NUM_EPOCHS,\n",
        "        device=device,\n",
        "        type_of_optimizer=OPTIMIZER\n",
        "    )\n",
        "    plot_results(train_losses, val_losses, train_accuracies, val_accuracies, save_path)\n"
      ]
    }
  ],
  "metadata": {
    "colab": {
      "provenance": [],
      "gpuType": "T4",
      "include_colab_link": true
    },
    "language_info": {
      "name": "python"
    },
    "accelerator": "GPU",
    "kernelspec": {
      "name": "python3",
      "display_name": "Python 3"
    }
  },
  "nbformat": 4,
  "nbformat_minor": 0
}